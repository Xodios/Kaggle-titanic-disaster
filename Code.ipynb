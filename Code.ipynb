{
 "cells": [
  {
   "attachments": {},
   "cell_type": "markdown",
   "metadata": {},
   "source": [
    "# Before we start!\n",
    "* Hey there I wanted you to know that this attempt was me tryin to follow a tutorial just to get started in Kaggle competitions \n",
    "* Here is the link of the video: https://www.youtube.com/watch?v=pUSi5xexT4Q\n",
    "* I wanna thank the youtuber Aladdin Persson who made it so clear and easy to follow and understand!\n",
    "* Have a beautiful day!"
   ]
  },
  {
   "cell_type": "code",
   "execution_count": 1,
   "metadata": {},
   "outputs": [],
   "source": [
    "import numpy as np\n",
    "import pandas as pd"
   ]
  },
  {
   "cell_type": "code",
   "execution_count": 2,
   "metadata": {},
   "outputs": [],
   "source": [
    "training = pd.read_csv(\"train.csv\")\n",
    "testing  = pd.read_csv(\"test.csv\")\n",
    "\n",
    "# gonna need it for submission\n",
    "test_ids = testing[\"PassengerId\"]\n",
    "\n",
    "#Defning our cleaning and processing function\n",
    "def cleanning(data):\n",
    "    \n",
    "    #Removing those cloumns (hard to process and we assume that the information we get from it isn't worth the time/effort)\n",
    "    data =  data.drop([\"Ticket\",\"Cabin\",\"Name\",\"PassengerId\"], axis=1)\n",
    "    \n",
    "    #Filling the missing values\n",
    "    cols = [\"SibSp\",\"Parch\",\"Fare\",\"Age\"]\n",
    "    for col in cols:\n",
    "        data[col].fillna(data[col].median(), inplace=True)\n",
    "    \n",
    "    #filling embared with unknown token\n",
    "    data.Embarked.fillna(\"U\", inplace=True)\n",
    "    return data \n",
    "train = cleanning(training)\n",
    "test  = cleanning(testing)"
   ]
  },
  {
   "cell_type": "code",
   "execution_count": 4,
   "metadata": {},
   "outputs": [
    {
     "name": "stdout",
     "output_type": "stream",
     "text": [
      "['female' 'male']\n",
      "['C' 'Q' 'S' 'U']\n"
     ]
    },
    {
     "data": {
      "text/html": [
       "<div>\n",
       "<style scoped>\n",
       "    .dataframe tbody tr th:only-of-type {\n",
       "        vertical-align: middle;\n",
       "    }\n",
       "\n",
       "    .dataframe tbody tr th {\n",
       "        vertical-align: top;\n",
       "    }\n",
       "\n",
       "    .dataframe thead th {\n",
       "        text-align: right;\n",
       "    }\n",
       "</style>\n",
       "<table border=\"1\" class=\"dataframe\">\n",
       "  <thead>\n",
       "    <tr style=\"text-align: right;\">\n",
       "      <th></th>\n",
       "      <th>Survived</th>\n",
       "      <th>Pclass</th>\n",
       "      <th>Sex</th>\n",
       "      <th>Age</th>\n",
       "      <th>SibSp</th>\n",
       "      <th>Parch</th>\n",
       "      <th>Fare</th>\n",
       "      <th>Embarked</th>\n",
       "    </tr>\n",
       "  </thead>\n",
       "  <tbody>\n",
       "    <tr>\n",
       "      <th>0</th>\n",
       "      <td>0</td>\n",
       "      <td>3</td>\n",
       "      <td>1</td>\n",
       "      <td>22.0</td>\n",
       "      <td>1</td>\n",
       "      <td>0</td>\n",
       "      <td>7.2500</td>\n",
       "      <td>2</td>\n",
       "    </tr>\n",
       "    <tr>\n",
       "      <th>1</th>\n",
       "      <td>1</td>\n",
       "      <td>1</td>\n",
       "      <td>0</td>\n",
       "      <td>38.0</td>\n",
       "      <td>1</td>\n",
       "      <td>0</td>\n",
       "      <td>71.2833</td>\n",
       "      <td>0</td>\n",
       "    </tr>\n",
       "    <tr>\n",
       "      <th>2</th>\n",
       "      <td>1</td>\n",
       "      <td>3</td>\n",
       "      <td>0</td>\n",
       "      <td>26.0</td>\n",
       "      <td>0</td>\n",
       "      <td>0</td>\n",
       "      <td>7.9250</td>\n",
       "      <td>2</td>\n",
       "    </tr>\n",
       "    <tr>\n",
       "      <th>3</th>\n",
       "      <td>1</td>\n",
       "      <td>1</td>\n",
       "      <td>0</td>\n",
       "      <td>35.0</td>\n",
       "      <td>1</td>\n",
       "      <td>0</td>\n",
       "      <td>53.1000</td>\n",
       "      <td>2</td>\n",
       "    </tr>\n",
       "    <tr>\n",
       "      <th>4</th>\n",
       "      <td>0</td>\n",
       "      <td>3</td>\n",
       "      <td>1</td>\n",
       "      <td>35.0</td>\n",
       "      <td>0</td>\n",
       "      <td>0</td>\n",
       "      <td>8.0500</td>\n",
       "      <td>2</td>\n",
       "    </tr>\n",
       "  </tbody>\n",
       "</table>\n",
       "</div>"
      ],
      "text/plain": [
       "   Survived  Pclass  Sex   Age  SibSp  Parch     Fare  Embarked\n",
       "0         0       3    1  22.0      1      0   7.2500         2\n",
       "1         1       1    0  38.0      1      0  71.2833         0\n",
       "2         1       3    0  26.0      0      0   7.9250         2\n",
       "3         1       1    0  35.0      1      0  53.1000         2\n",
       "4         0       3    1  35.0      0      0   8.0500         2"
      ]
     },
     "execution_count": 4,
     "metadata": {},
     "output_type": "execute_result"
    }
   ],
   "source": [
    "from sklearn import preprocessing\n",
    "#Encoding sex and Embarked columns \n",
    "Label_Enc = preprocessing.LabelEncoder()\n",
    "\n",
    "cols =[\"Sex\",\"Embarked\"]\n",
    "for col in cols:\n",
    "    train[col] = Label_Enc.fit_transform(train[col])\n",
    "    test[col]  = Label_Enc.transform(test[col])\n",
    "    print(Label_Enc.classes_)\n",
    "train.head(5)"
   ]
  },
  {
   "cell_type": "code",
   "execution_count": 5,
   "metadata": {},
   "outputs": [],
   "source": [
    "from sklearn.linear_model import LogisticRegression\n",
    "from sklearn.model_selection import train_test_split\n",
    "LG=LogisticRegression(random_state=0, max_iter=1000)\n",
    "\n",
    "y = train[\"Survived\"]\n",
    "x = train.drop(\"Survived\",axis=1)\n",
    "#spliting the training data to trainning and validation honestly I have no idea what's random state\n",
    "x_train, x_validation, y_train, y_validation = train_test_split(x,y,test_size=0.2,random_state=42)"
   ]
  },
  {
   "cell_type": "code",
   "execution_count": 6,
   "metadata": {},
   "outputs": [],
   "source": [
    "Model_Classifier = LG.fit(x_train,y_train)"
   ]
  },
  {
   "cell_type": "code",
   "execution_count": 7,
   "metadata": {},
   "outputs": [
    {
     "data": {
      "text/plain": [
       "0.8100558659217877"
      ]
     },
     "execution_count": 7,
     "metadata": {},
     "output_type": "execute_result"
    }
   ],
   "source": [
    "#Prediction time:))\n",
    "Prediction = Model_Classifier.predict(x_validation)\n",
    "\n",
    "#Importing accuracy score and seein how good we did^^\n",
    "from sklearn.metrics import accuracy_score\n",
    "accuracy_score(y_validation,Prediction)\n"
   ]
  },
  {
   "cell_type": "code",
   "execution_count": 9,
   "metadata": {},
   "outputs": [],
   "source": [
    "#submission:\n",
    "submission = Model_Classifier.predict(test)\n",
    "#Putting in a dataframe\n",
    "submission_df = pd.DataFrame({\"PassengerID\":test_ids.values,\"Survived\":submission})\n",
    "submission_df.to_csv(\"submission_score.csv\",index=False)"
   ]
  }
 ],
 "metadata": {
  "kernelspec": {
   "display_name": "Python 3",
   "language": "python",
   "name": "python3"
  },
  "language_info": {
   "codemirror_mode": {
    "name": "ipython",
    "version": 3
   },
   "file_extension": ".py",
   "mimetype": "text/x-python",
   "name": "python",
   "nbconvert_exporter": "python",
   "pygments_lexer": "ipython3",
   "version": "3.11.1"
  },
  "orig_nbformat": 4,
  "vscode": {
   "interpreter": {
    "hash": "9c9e3963723c8f92737e409561f90b77851da50b8525d226799b7c6eba7d414f"
   }
  }
 },
 "nbformat": 4,
 "nbformat_minor": 2
}
